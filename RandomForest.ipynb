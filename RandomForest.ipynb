{
 "cells": [
  {
   "cell_type": "markdown",
   "metadata": {},
   "source": [
    " Demonstrate the working of the Random forest algorithm. Use an appropriate data set for \n",
    "building and apply this knowledge to classify a new sample."
   ]
  },
  {
   "cell_type": "code",
   "execution_count": 175,
   "metadata": {},
   "outputs": [],
   "source": [
    "from sklearn import datasets\n",
    "from sklearn.ensemble import RandomForestClassifier\n",
    "from sklearn import metrics\n",
    "from sklearn.model_selection import train_test_split\n",
    "import pandas as pd "
   ]
  },
  {
   "cell_type": "code",
   "execution_count": 176,
   "metadata": {},
   "outputs": [
    {
     "name": "stdout",
     "output_type": "stream",
     "text": [
      "['setosa' 'versicolor' 'virginica']\n",
      "['sepal length (cm)', 'sepal width (cm)', 'petal length (cm)', 'petal width (cm)']\n"
     ]
    }
   ],
   "source": [
    "iris=datasets.load_iris()\n",
    "print(iris.target_names)\n",
    "print(iris.feature_names)\n"
   ]
  },
  {
   "cell_type": "code",
   "execution_count": 177,
   "metadata": {},
   "outputs": [],
   "source": [
    "#X,y=datasets.load_iris(return_X_y=True)\n",
    "X=iris.data\n",
    "y=iris.target\n",
    "Xtrain,Xtest,ytrain,ytest=train_test_split(X,y,test_size=0.30)\n"
   ]
  },
  {
   "cell_type": "code",
   "execution_count": 178,
   "metadata": {},
   "outputs": [
    {
     "name": "stdout",
     "output_type": "stream",
     "text": [
      "   sepallength  sepalwidth  petallength  petalwidth  species\n",
      "0          5.1         3.5          1.4         0.2        0\n",
      "1          4.9         3.0          1.4         0.2        0\n",
      "2          4.7         3.2          1.3         0.2        0\n",
      "3          4.6         3.1          1.5         0.2        0\n",
      "4          5.0         3.6          1.4         0.2        0\n"
     ]
    }
   ],
   "source": [
    "data = pd.DataFrame({'sepallength': iris.data[:, 0], 'sepalwidth': iris.data[:, 1], 'petallength':iris.data[:, 2], 'petalwidth': iris.data[:, 3],'species': iris.target})\n",
    "print(data.head())"
   ]
  },
  {
   "cell_type": "code",
   "execution_count": 179,
   "metadata": {},
   "outputs": [
    {
     "name": "stdout",
     "output_type": "stream",
     "text": [
      "Accuracy= 0.9111111111111111\n"
     ]
    }
   ],
   "source": [
    "clf=RandomForestClassifier(n_estimators=100)\n",
    "clf.fit(Xtrain,ytrain)\n",
    "yp=clf.predict(Xtest)\n",
    "print('Accuracy=',metrics.accuracy_score(ytest,yp))"
   ]
  },
  {
   "cell_type": "code",
   "execution_count": 180,
   "metadata": {},
   "outputs": [
    {
     "data": {
      "text/plain": [
       "petal width (cm)     0.492884\n",
       "petal length (cm)    0.408966\n",
       "sepal length (cm)    0.072108\n",
       "sepal width (cm)     0.026043\n",
       "dtype: float64"
      ]
     },
     "execution_count": 180,
     "metadata": {},
     "output_type": "execute_result"
    }
   ],
   "source": [
    "clf.predict([[3,3,2,2]])\n",
    "\n",
    "features=pd.Series(clf.feature_importances_,index=iris.feature_names).sort_values(ascending=False)\n",
    "features"
   ]
  }
 ],
 "metadata": {
  "kernelspec": {
   "display_name": "base",
   "language": "python",
   "name": "python3"
  },
  "language_info": {
   "codemirror_mode": {
    "name": "ipython",
    "version": 3
   },
   "file_extension": ".py",
   "mimetype": "text/x-python",
   "name": "python",
   "nbconvert_exporter": "python",
   "pygments_lexer": "ipython3",
   "version": "3.8.8"
  },
  "orig_nbformat": 4
 },
 "nbformat": 4,
 "nbformat_minor": 2
}
